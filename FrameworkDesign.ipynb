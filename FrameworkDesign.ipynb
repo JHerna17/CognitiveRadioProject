{
 "cells": [
  {
   "cell_type": "markdown",
   "metadata": {},
   "source": [
    "Notebook with the design of the Core Simulation class, Conventional radio and Cognitive Radio v1"
   ]
  },
  {
   "cell_type": "code",
   "execution_count": 1,
   "metadata": {
    "collapsed": true
   },
   "outputs": [],
   "source": [
    "class Simulation:    \n",
    "    import numpy as np\n",
    "    import pandas as pd     \n",
    "    import seaborn as sns\n",
    "    \n",
    "    def __init__(self,channels=10,granularity=1,cycles=720):        \n",
    "        self.channels = channels\n",
    "        self.granularity = granularity\n",
    "        self.cycles = cycles\n",
    "        self.radios = []\n",
    "        self.sfdf = pd.DataFrame(np.zeros((cycles, channels)))            \n",
    "        \n",
    "    def addRadio(self,radio, channel):\n",
    "        self.radios.append(radio)\n",
    "        self.sfdf[channel] = radio.generate()\n",
    "        \n",
    "    def addCognitiveRadio(self,radio):\n",
    "        self.radios.append(radio)\n",
    "        self.sfdf = radio.generate()\n",
    "        \n",
    "    def run(self):\n",
    "        print(\"Begin Simulation\")\n",
    "        print(\"Network :\")\n",
    "        for ra in self.radios:\n",
    "            print (ra.describe())\n",
    "            \n",
    "        \n",
    "        total_clashes = self.sfdf[self.sfdf > 1].count().sum()\n",
    "        total_blocks = self.sfdf.count().sum()\n",
    "        self.Confidence = 1 - float(total_clashes)/total_blocks\n",
    "        \n",
    "        print( \"Network Confidence : \" + str(self.Confidence*100) +\"%\")\n",
    "        \n",
    "        used_blocks = self.sfdf[self.sfdf > 0].count().sum()\n",
    "        self.Eficiency = float(used_blocks)/total_blocks\n",
    "        \n",
    "        print( \"Spectrum Eficieny : \" + str(self.Eficiency*100) +\"%\")\n",
    "        \n",
    "        self.plot()\n",
    "        \n",
    "    def plot(self):\n",
    "        print( \"Method to plot and present results\")\n",
    "        test = math.floor(self.cycles * 0.3)\n",
    "        ax = sns.heatmap(self.sfdf[-test:], vmax=self.sfdf[-test:].max().max(), cmap=\"YlGnBu\")\n",
    "        fig = ax.get_figure()\n",
    "        fig.savefig('plot.png')\n",
    "        \n",
    "    \n",
    "        "
   ]
  },
  {
   "cell_type": "code",
   "execution_count": null,
   "metadata": {
    "collapsed": true
   },
   "outputs": [],
   "source": []
  },
  {
   "cell_type": "code",
   "execution_count": 2,
   "metadata": {
    "collapsed": true
   },
   "outputs": [],
   "source": [
    "class ConventionalRadio:\n",
    "    \n",
    "    import numpy as np\n",
    "    def __init__(self,period,cycles,channel):\n",
    "        self.period = period\n",
    "        self.cycles = cycles\n",
    "        self.channel = channel\n",
    "        \n",
    "    def generate(self):\n",
    "        tmp_period= abs(self.period)\n",
    "        usage = np.ones(self.cycles, dtype = 'float')\n",
    "        on_period= np.ones(tmp_period)\n",
    "        off_period = np.zeros(tmp_period)\n",
    "        true_usage = np.tile(np.concatenate((on_period, off_period), axis=0),int(self.cycles/(2*tmp_period)))\n",
    "        true_usage = true_usage if self.period>0 else usage\n",
    "        return true_usage\n",
    "    def describe(self):\n",
    "        return \"Conventional Radio with Period \" + str(self.period) + \" located in channel \" + str(self.channel)\n",
    "        "
   ]
  },
  {
   "cell_type": "code",
   "execution_count": 3,
   "metadata": {
    "collapsed": true
   },
   "outputs": [],
   "source": [
    "class RandomRadio:\n",
    "    \n",
    "    import numpy as np\n",
    "    def __init__(self,period,cycles,channel):\n",
    "        self.period = period\n",
    "        self.cycles = cycles\n",
    "        self.channel = channel\n",
    "        \n",
    "    def generate(self):\n",
    "        \n",
    "        return np.random.randint(2, size=self.cycles)\n",
    "    #608899\n",
    "    def describe(self):\n",
    "        return \"Random Radio with Period \" + str(self.period) + \" located in channel \" + str(self.channel)\n",
    "        "
   ]
  },
  {
   "cell_type": "code",
   "execution_count": 4,
   "metadata": {
    "collapsed": true
   },
   "outputs": [],
   "source": [
    "class CognitiveRadio_v1:\n",
    "    \n",
    "    import numpy as np\n",
    "    def __init__(self,spec):\n",
    "        self.df = spec\n",
    "        self.channels = len(spec.columns)\n",
    "        self.current = 0\n",
    "        \n",
    "    def update(self, current):\n",
    "        self.current = current\n",
    "                             \n",
    "        \n",
    "    def generate(self):\n",
    "        \n",
    "        for index, row in self.df.iterrows():                         \n",
    "            free_channels = row[row==0].index.values\n",
    "            busy_channels = row[row>0 ].index.values\n",
    "            \n",
    "            row[self.current] = row[self.current]+1  \n",
    "\n",
    "            if self.current in busy_channels:\n",
    "                # Change Channel \n",
    "                left = free_channels[free_channels > self.current]\n",
    "                right = free_channels[free_channels < self.current]\n",
    "\n",
    "                if len(left)>0:\n",
    "                    self.current = left.min()\n",
    "                elif len(right)> 0:\n",
    "                    self.current = right.min()\n",
    "                else:\n",
    "                    self.current = self.current                                                            \n",
    "            \n",
    "            \n",
    "        \n",
    "        return self.df\n",
    "                \n",
    "    def describe(self):\n",
    "        return \"Cognitive Radio v1 located in the network \" "
   ]
  },
  {
   "cell_type": "code",
   "execution_count": 5,
   "metadata": {},
   "outputs": [
    {
     "name": "stderr",
     "output_type": "stream",
     "text": [
      "Using TensorFlow backend.\n"
     ]
    }
   ],
   "source": [
    "class CognitiveRadio_v2:\n",
    "    \n",
    "    import numpy as np\n",
    "    import math\n",
    "    from keras.models import Sequential\n",
    "    from keras.layers import Dense\n",
    "    from keras.layers import LSTM, Activation, GRU\n",
    "    \n",
    "    def __init__(self,spec, train=0.7, lookback = 6):\n",
    "        self.df = spec\n",
    "        self.channels = len(spec.columns)\n",
    "        self.current = 0\n",
    "        self.train = train              \n",
    "        self.lookback = lookback\n",
    "        self.pred_df = pd.DataFrame(0, columns=spec.columns, index=spec.index)\n",
    "        \n",
    "        \n",
    "    def update(self, current):\n",
    "        self.current = current\n",
    "        \n",
    "    \n",
    "    def reshape_data(self,x,y, lookback):\n",
    "        \n",
    "        shaped = np.zeros(shape=(len(x)-lookback,lookback,1))\n",
    "        y_shaped = np.zeros(shape =(len(x)-lookback,1) )\n",
    "    \n",
    "        for sample in range(len(x) - lookback) :\n",
    "            seq = x[sample: sample+lookback]\n",
    "            shaped[sample,:,0] = seq\n",
    "            y_shaped[sample] = y[sample+lookback]\n",
    "\n",
    "        return shaped,y_shaped\n",
    "    \n",
    "    def transform_data(self):\n",
    "        # Transform data to busy/free \n",
    "        self.df = self.df[self.df == 0 ].fillna(1)\n",
    "        \n",
    "    def split_data(self, data, spl):\n",
    "        # Split dataset into validation and training        \n",
    "        split = math.floor(data.shape[0] * spl)\n",
    "        #train_y = data.shift().drop(data.index[:1])\n",
    "        #data = data.drop(data.index[:1])\n",
    "        \n",
    "        \n",
    "        train_x, valid_x = data[:split], data[split:]           \n",
    "        train_y , valid_y = data[:split], data[split:]\n",
    "        \n",
    "        return train_x.values,valid_x.values,train_y.values,valid_y.values\n",
    "                             \n",
    "    def create_model(self):\n",
    "        \n",
    "        model = Sequential()\n",
    "        model.add(LSTM(5, input_shape=(self.lookback, 1)))        \n",
    "        #self.model.add(GRU(10, input_shape=(self.lookback, 1)))        \n",
    "        model.add(Dense(1, activation='sigmoid'))   \n",
    "        \n",
    "        model.compile(loss='binary_crossentropy', optimizer='adam', metrics=['accuracy'])\n",
    "        \n",
    "        return model\n",
    "        \n",
    "    def train_model(self,model):\n",
    "               \n",
    "        history = model.fit(self.train_x, self.train_y,\n",
    "                                      validation_data=(self.valid_x, self.valid_y), \n",
    "                                      epochs=10, batch_size=1, verbose=0, shuffle=False)\n",
    "        \n",
    "        return history            \n",
    "                \n",
    "    def score_model(self, x, index, model ):\n",
    "        self.modelout = model.predict_classes(x)\n",
    "        #pred = pd.Series(model.predict_classes(x).ravel().tolist() ,index=index)        \n",
    "        pred = pd.Series(model.predict_classes(x).ravel().tolist(), index=index)\n",
    "        return pred\n",
    "    \n",
    "    def generate_activity(self, samples):        \n",
    "        \n",
    "        for index, row in self.pred_df.iterrows():    \n",
    "            \n",
    "            if index < samples:\n",
    "                continue\n",
    "            free_channels = row[row==0].index.values\n",
    "            busy_channels = row[row>0 ].index.values                        \n",
    "\n",
    "            if self.current in busy_channels:\n",
    "                # Change Channel \n",
    "                left = free_channels[free_channels > self.current]\n",
    "                right = free_channels[free_channels < self.current]\n",
    "\n",
    "                if len(left)>0:\n",
    "                    self.current = left.min()\n",
    "                elif len(right)> 0:\n",
    "                    self.current = right.min()\n",
    "                else:\n",
    "                    self.current = self.current   \n",
    "                    \n",
    "            self.df.loc[index,self.current] = self.df.loc[index,self.current]+1  \n",
    "        \n",
    "    def generate(self):\n",
    "        \n",
    "        self.transform_data()\n",
    "        self.models = []\n",
    "        self.history = []\n",
    "        \n",
    "        for channel in self.df.columns:                        \n",
    "                    \n",
    "            train_x,valid_x,train_y,valid_y = self.split_data(self.df[channel], self.train)              \n",
    "            \n",
    "                                    \n",
    "            self.train_x, self.train_y = self.reshape_data(train_x,train_y ,self.lookback)            \n",
    "            self.valid_x, self.valid_y = self.reshape_data(valid_x,valid_y,self.lookback)            \n",
    "                    \n",
    "            # Create and train model \n",
    "\n",
    "            self.models.append(self.create_model())\n",
    "            self.history.append(self.train_model(self.models[channel]))\n",
    "            \n",
    "            index = pd.RangeIndex(start=self.pred_df[0].shape[0] - self.valid_x.shape[0]  , stop=self.pred_df[0].shape[0] , step=1)\n",
    "            \n",
    "            pred = self.score_model(self.valid_x, index,self.models[channel])\n",
    "            \n",
    "            self.pred_df[channel] = self.pred_df[channel].add(pred, fill_value=1)\n",
    "            \n",
    "        self.generate_activity(self.pred_df[0].shape[0] - self.valid_x.shape[0])\n",
    "                                                            \n",
    "        \n",
    "        return self.df\n",
    "                \n",
    "    def describe(self):\n",
    "        return \"Cognitive Radio v2 located in the network \" "
   ]
  },
  {
   "cell_type": "markdown",
   "metadata": {},
   "source": [
    "## Montecarlo Run \n",
    "\n",
    "1.- 10 total runs\n",
    "2.- Average each metric\n"
   ]
  },
  {
   "cell_type": "code",
   "execution_count": 31,
   "metadata": {
    "scrolled": false
   },
   "outputs": [
    {
     "name": "stdout",
     "output_type": "stream",
     "text": [
      "32/99 [========>.....................] - ETA: 0ssBegin Simulation\n",
      "Network :\n",
      "Random Radio with Period 1 located in channel 0\n",
      "Random Radio with Period 1 located in channel 1\n",
      "Random Radio with Period 1 located in channel 2\n",
      "Random Radio with Period 1 located in channel 3\n",
      "Random Radio with Period 1 located in channel 4\n",
      "Random Radio with Period 1 located in channel 5\n",
      "Random Radio with Period 1 located in channel 6\n",
      "Random Radio with Period 1 located in channel 7\n",
      "Random Radio with Period 1 located in channel 8\n",
      "Random Radio with Period 1 located in channel 9\n",
      "Cognitive Radio v2 located in the network \n",
      "Network Confidence : 98.25%\n",
      "Spectrum Eficieny : 51.4444444444%\n",
      "Method to plot and present results\n",
      "Finished Montecarlo run 0 in 477.7582550048828!\n",
      "32/99 [========>.....................] - ETA: 0ssBegin Simulation\n",
      "Network :\n",
      "Random Radio with Period 1 located in channel 0\n",
      "Random Radio with Period 1 located in channel 1\n",
      "Random Radio with Period 1 located in channel 2\n",
      "Random Radio with Period 1 located in channel 3\n",
      "Random Radio with Period 1 located in channel 4\n",
      "Random Radio with Period 1 located in channel 5\n",
      "Random Radio with Period 1 located in channel 6\n",
      "Random Radio with Period 1 located in channel 7\n",
      "Random Radio with Period 1 located in channel 8\n",
      "Random Radio with Period 1 located in channel 9\n",
      "Cognitive Radio v2 located in the network \n",
      "Network Confidence : 98.75%\n",
      "Spectrum Eficieny : 50.1666666667%\n",
      "Method to plot and present results\n",
      "Finished Montecarlo run 1 in 594.712488412857!\n",
      "32/99 [========>.....................] - ETA: 0ssBegin Simulation\n",
      "Network :\n",
      "Random Radio with Period 1 located in channel 0\n",
      "Random Radio with Period 1 located in channel 1\n",
      "Random Radio with Period 1 located in channel 2\n",
      "Random Radio with Period 1 located in channel 3\n",
      "Random Radio with Period 1 located in channel 4\n",
      "Random Radio with Period 1 located in channel 5\n",
      "Random Radio with Period 1 located in channel 6\n",
      "Random Radio with Period 1 located in channel 7\n",
      "Random Radio with Period 1 located in channel 8\n",
      "Random Radio with Period 1 located in channel 9\n",
      "Cognitive Radio v2 located in the network \n",
      "Network Confidence : 98.5555555556%\n",
      "Spectrum Eficieny : 50.2222222222%\n",
      "Method to plot and present results\n",
      "Finished Montecarlo run 2 in 551.6969084739685!\n",
      "32/99 [========>.....................] - ETA: 0ssBegin Simulation\n",
      "Network :\n",
      "Random Radio with Period 1 located in channel 0\n",
      "Random Radio with Period 1 located in channel 1\n",
      "Random Radio with Period 1 located in channel 2\n",
      "Random Radio with Period 1 located in channel 3\n",
      "Random Radio with Period 1 located in channel 4\n",
      "Random Radio with Period 1 located in channel 5\n",
      "Random Radio with Period 1 located in channel 6\n",
      "Random Radio with Period 1 located in channel 7\n",
      "Random Radio with Period 1 located in channel 8\n",
      "Random Radio with Period 1 located in channel 9\n",
      "Cognitive Radio v2 located in the network \n",
      "Network Confidence : 98.3611111111%\n",
      "Spectrum Eficieny : 52.0%\n",
      "Method to plot and present results\n",
      "Finished Montecarlo run 3 in 598.6731040477753!\n",
      "99/99 [==============================] - 17s     \n",
      "32/99 [========>.....................] - ETA: 0ssBegin Simulation\n",
      "Network :\n",
      "Random Radio with Period 1 located in channel 0\n",
      "Random Radio with Period 1 located in channel 1\n",
      "Random Radio with Period 1 located in channel 2\n",
      "Random Radio with Period 1 located in channel 3\n",
      "Random Radio with Period 1 located in channel 4\n",
      "Random Radio with Period 1 located in channel 5\n",
      "Random Radio with Period 1 located in channel 6\n",
      "Random Radio with Period 1 located in channel 7\n",
      "Random Radio with Period 1 located in channel 8\n",
      "Random Radio with Period 1 located in channel 9\n",
      "Cognitive Radio v2 located in the network \n",
      "Network Confidence : 98.6666666667%\n",
      "Spectrum Eficieny : 50.3333333333%\n",
      "Method to plot and present results\n",
      "Finished Montecarlo run 4 in 740.2579822540283!\n",
      "32/99 [========>.....................] - ETA: 0ssBegin Simulation\n",
      "Network :\n",
      "Random Radio with Period 1 located in channel 0\n",
      "Random Radio with Period 1 located in channel 1\n",
      "Random Radio with Period 1 located in channel 2\n",
      "Random Radio with Period 1 located in channel 3\n",
      "Random Radio with Period 1 located in channel 4\n",
      "Random Radio with Period 1 located in channel 5\n",
      "Random Radio with Period 1 located in channel 6\n",
      "Random Radio with Period 1 located in channel 7\n",
      "Random Radio with Period 1 located in channel 8\n",
      "Random Radio with Period 1 located in channel 9\n",
      "Cognitive Radio v2 located in the network \n",
      "Network Confidence : 98.4722222222%\n",
      "Spectrum Eficieny : 51.1944444444%\n",
      "Method to plot and present results\n",
      "Finished Montecarlo run 5 in 616.0309228897095!\n",
      "32/99 [========>.....................] - ETA: 0ssBegin Simulation\n",
      "Network :\n",
      "Random Radio with Period 1 located in channel 0\n",
      "Random Radio with Period 1 located in channel 1\n",
      "Random Radio with Period 1 located in channel 2\n",
      "Random Radio with Period 1 located in channel 3\n",
      "Random Radio with Period 1 located in channel 4\n",
      "Random Radio with Period 1 located in channel 5\n",
      "Random Radio with Period 1 located in channel 6\n",
      "Random Radio with Period 1 located in channel 7\n",
      "Random Radio with Period 1 located in channel 8\n",
      "Random Radio with Period 1 located in channel 9\n",
      "Cognitive Radio v2 located in the network \n",
      "Network Confidence : 98.4722222222%\n",
      "Spectrum Eficieny : 51.4166666667%\n",
      "Method to plot and present results\n",
      "Finished Montecarlo run 6 in 675.8191637992859!\n",
      "32/99 [========>.....................] - ETA: 0ssBegin Simulation\n",
      "Network :\n",
      "Random Radio with Period 1 located in channel 0\n",
      "Random Radio with Period 1 located in channel 1\n",
      "Random Radio with Period 1 located in channel 2\n",
      "Random Radio with Period 1 located in channel 3\n",
      "Random Radio with Period 1 located in channel 4\n",
      "Random Radio with Period 1 located in channel 5\n",
      "Random Radio with Period 1 located in channel 6\n",
      "Random Radio with Period 1 located in channel 7\n",
      "Random Radio with Period 1 located in channel 8\n",
      "Random Radio with Period 1 located in channel 9\n",
      "Cognitive Radio v2 located in the network \n",
      "Network Confidence : 98.7777777778%\n",
      "Spectrum Eficieny : 50.0555555556%\n",
      "Method to plot and present results\n",
      "Finished Montecarlo run 7 in 959.2918426990509!\n",
      "32/99 [========>.....................] - ETA: 0ssBegin Simulation\n",
      "Network :\n",
      "Random Radio with Period 1 located in channel 0\n",
      "Random Radio with Period 1 located in channel 1\n",
      "Random Radio with Period 1 located in channel 2\n",
      "Random Radio with Period 1 located in channel 3\n",
      "Random Radio with Period 1 located in channel 4\n",
      "Random Radio with Period 1 located in channel 5\n",
      "Random Radio with Period 1 located in channel 6\n",
      "Random Radio with Period 1 located in channel 7\n",
      "Random Radio with Period 1 located in channel 8\n",
      "Random Radio with Period 1 located in channel 9\n",
      "Cognitive Radio v2 located in the network \n",
      "Network Confidence : 98.6666666667%\n",
      "Spectrum Eficieny : 51.8055555556%\n",
      "Method to plot and present results\n",
      "Finished Montecarlo run 8 in 759.4213540554047!\n",
      "32/99 [========>.....................] - ETA: 0ssBegin Simulation\n",
      "Network :\n",
      "Random Radio with Period 1 located in channel 0\n",
      "Random Radio with Period 1 located in channel 1\n",
      "Random Radio with Period 1 located in channel 2\n",
      "Random Radio with Period 1 located in channel 3\n",
      "Random Radio with Period 1 located in channel 4\n",
      "Random Radio with Period 1 located in channel 5\n",
      "Random Radio with Period 1 located in channel 6\n",
      "Random Radio with Period 1 located in channel 7\n",
      "Random Radio with Period 1 located in channel 8\n",
      "Random Radio with Period 1 located in channel 9\n",
      "Cognitive Radio v2 located in the network \n",
      "Network Confidence : 98.9722222222%\n",
      "Spectrum Eficieny : 50.5555555556%\n",
      "Method to plot and present results\n",
      "Finished Montecarlo run 9 in 816.8879227638245!\n"
     ]
    },
    {
     "data": {
      "image/png": "[encoded data removed]",
      "text/plain": [
       "<matplotlib.figure.Figure at 0x28fb0be5da0>"
      ]
     },
     "metadata": {},
     "output_type": "display_data"
    }
   ],
   "source": [
    "import random\n",
    "import numpy as np\n",
    "import pandas as pd  \n",
    "import seaborn as sns\n",
    "import math \n",
    "import time\n",
    "import numpy as np\n",
    "import pandas as pd\n",
    "from matplotlib import pyplot as plt\n",
    "\n",
    "from tensorflow.contrib import learn\n",
    "from sklearn.metrics import mean_squared_error, mean_absolute_error\n",
    "from keras.models import Sequential\n",
    "from keras.layers import Dense\n",
    "from keras.layers import LSTM, Activation, GRU\n",
    "from keras.callbacks import EarlyStopping, ModelCheckpoint\n",
    "\n",
    "%matplotlib inline\n",
    "\n",
    "periods = [-1, 1 , 2 , 4 , 6 ,12 ] # possible periods for conventional radios\n",
    "total_bands = 10 \n",
    "runs = 10 \n",
    "\n",
    "random_sources = 10\n",
    "add_Cognitive_v1 = False\n",
    "add_Cognitive_v2 = True\n",
    "radios = []\n",
    "training_loss = {}\n",
    "training_acc = {}\n",
    "test_loss = {}\n",
    "test_acc = {}\n",
    "eff = {}\n",
    "\n",
    "\n",
    "days = 15\n",
    "total_cycles = days*24\n",
    "result_df = pd.DataFrame(columns=['epoch','loss','acc', 'type'])\n",
    "result_df_2 = pd.DataFrame(columns=['Efficiency','Confidence'])\n",
    "\n",
    "sns.set_palette(sns.color_palette(\"coolwarm\", 7))\n",
    "\n",
    "for MonteCount in range(runs):\n",
    "    \n",
    "    start = time.time()\n",
    "    MonteCarloSim = Simulation(cycles=total_cycles)\n",
    "\n",
    "    for radio_channel in range(total_bands - random_sources):\n",
    "        selected_period = random.choice(periods)\n",
    "        c_radio= ConventionalRadio(selected_period,total_cycles,radio_channel)\n",
    "        MonteCarloSim.addRadio(c_radio,radio_channel)\n",
    "\n",
    "    for radio_channel in range(total_bands - random_sources, total_bands):\n",
    "        c_radio= RandomRadio(selected_period,total_cycles,radio_channel)\n",
    "        MonteCarloSim.addRadio(c_radio,radio_channel)\n",
    "\n",
    "    if add_Cognitive_v1:\n",
    "        radioc = CognitiveRadio_v1(MonteCarloSim.sfdf)\n",
    "        MonteCarloSim.addCognitiveRadio(radioc)\n",
    "    if add_Cognitive_v2:\n",
    "        radioc2 = CognitiveRadio_v2(MonteCarloSim.sfdf, lookback=10)\n",
    "        MonteCarloSim.addCognitiveRadio(radioc2)\n",
    "\n",
    "    MonteCarloSim.run()\n",
    "\n",
    "    if add_Cognitive_v2:    \n",
    "        for i in range(runs):            \n",
    "            epochs = len(radioc2.history[i].history['loss'])\n",
    "            eps = [x for x in range(1,epochs+1)]\n",
    "            vlabel = ['val' for x in range(1,epochs+1)]\n",
    "            tlabel = ['training' for x in range(1,epochs+1)]\n",
    "            \n",
    "            tloss =  radioc2.history[i].history['loss']\n",
    "            tacc = radioc2.history[i].history['acc']\n",
    "            \n",
    "            result_df= result_df.append(pd.DataFrame({'loss':tloss,'acc':tacc,\n",
    "                                                      'epoch':eps , 'type':tlabel}),\n",
    "                                        ignore_index=True)\n",
    "\n",
    "            vloss =  radioc2.history[i].history['val_loss']\n",
    "            vacc = radioc2.history[i].history['val_acc']\n",
    "            \n",
    "            result_df= result_df.append(pd.DataFrame({'loss':vloss,'acc':vacc,\n",
    "                                                      'epoch':eps , 'type':vlabel}),\n",
    "                                        ignore_index=True)\n",
    "\n",
    "\n",
    "    end = time.time()\n",
    "    result_df_2 = result_df_2.append(pd.DataFrame({'Efficiency': [MonteCarloSim.Eficiency],\n",
    "                                                   'Confidence':[MonteCarloSim.Confidence]}),\n",
    "                                    ignore_index=True)\n",
    "    \n",
    "    print(\"Finished Montecarlo run {0} in {1}!\".format(MonteCount, end - start))\n",
    "    \n",
    "    \n",
    "\n",
    "\n",
    "        \n",
    "    \n"
   ]
  },
  {
   "cell_type": "code",
   "execution_count": 32,
   "metadata": {},
   "outputs": [
    {
     "data": {
      "image/png": "[encoded data removed]",
      "text/plain": [
       "<matplotlib.figure.Figure at 0x28f43853c88>"
      ]
     },
     "metadata": {},
     "output_type": "display_data"
    }
   ],
   "source": [
    "import matplotlib.pyplot as plt\n",
    "ax = sns.pointplot()\n",
    "ax=sns.pointplot(x=\"epoch\", y=\"acc\",hue='type', data=result_df, capsize=.2, palette=\"Set1\")\n",
    "plt.show()"
   ]
  },
  {
   "cell_type": "code",
   "execution_count": 33,
   "metadata": {
    "collapsed": true
   },
   "outputs": [],
   "source": [
    "fig = ax.get_figure()\n",
    "fig.savefig('RandomValAccv1v2.png')"
   ]
  },
  {
   "cell_type": "code",
   "execution_count": 34,
   "metadata": {},
   "outputs": [
    {
     "data": {
      "image/png": "[encoded data removed]",
      "text/plain": [
       "<matplotlib.figure.Figure at 0x290bad9ef28>"
      ]
     },
     "metadata": {},
     "output_type": "display_data"
    }
   ],
   "source": [
    "ax=sns.pointplot(x=\"epoch\", y=\"loss\",hue='type', data=result_df, capsize=.2, palette=\"Set1\")\n",
    "plt.show()"
   ]
  },
  {
   "cell_type": "code",
   "execution_count": 35,
   "metadata": {
    "collapsed": true
   },
   "outputs": [],
   "source": [
    "fig = ax.get_figure()\n",
    "fig.savefig('RandomValLossv1v2.png')"
   ]
  },
  {
   "cell_type": "code",
   "execution_count": 36,
   "metadata": {},
   "outputs": [
    {
     "data": {
      "image/png": "[encoded data removed]",
      "text/plain": [
       "<matplotlib.figure.Figure at 0x290bb03afd0>"
      ]
     },
     "metadata": {},
     "output_type": "display_data"
    }
   ],
   "source": [
    "ax = sns.boxplot(data=result_df_2)\n"
   ]
  },
  {
   "cell_type": "code",
   "execution_count": 37,
   "metadata": {
    "collapsed": true
   },
   "outputs": [],
   "source": [
    "fig = ax.get_figure()\n",
    "fig.savefig('RandomEffvConfv2.png')"
   ]
  },
  {
   "cell_type": "code",
   "execution_count": 13,
   "metadata": {},
   "outputs": [
    {
     "data": {
      "text/html": [
       "<div>\n",
       "<style>\n",
       "    .dataframe thead tr:only-child th {\n",
       "        text-align: right;\n",
       "    }\n",
       "\n",
       "    .dataframe thead th {\n",
       "        text-align: left;\n",
       "    }\n",
       "\n",
       "    .dataframe tbody tr th {\n",
       "        vertical-align: top;\n",
       "    }\n",
       "</style>\n",
       "<table border=\"1\" class=\"dataframe\">\n",
       "  <thead>\n",
       "    <tr style=\"text-align: right;\">\n",
       "      <th></th>\n",
       "      <th>Confidence</th>\n",
       "      <th>Efficiency</th>\n",
       "    </tr>\n",
       "  </thead>\n",
       "  <tbody>\n",
       "    <tr>\n",
       "      <th>0</th>\n",
       "      <td>0.993333</td>\n",
       "      <td>0.573056</td>\n",
       "    </tr>\n",
       "    <tr>\n",
       "      <th>1</th>\n",
       "      <td>0.985278</td>\n",
       "      <td>0.611667</td>\n",
       "    </tr>\n",
       "    <tr>\n",
       "      <th>2</th>\n",
       "      <td>0.985556</td>\n",
       "      <td>0.564167</td>\n",
       "    </tr>\n",
       "    <tr>\n",
       "      <th>3</th>\n",
       "      <td>0.986667</td>\n",
       "      <td>0.616389</td>\n",
       "    </tr>\n",
       "    <tr>\n",
       "      <th>4</th>\n",
       "      <td>0.983333</td>\n",
       "      <td>0.515000</td>\n",
       "    </tr>\n",
       "    <tr>\n",
       "      <th>5</th>\n",
       "      <td>0.995556</td>\n",
       "      <td>0.572222</td>\n",
       "    </tr>\n",
       "    <tr>\n",
       "      <th>6</th>\n",
       "      <td>0.986389</td>\n",
       "      <td>0.664167</td>\n",
       "    </tr>\n",
       "    <tr>\n",
       "      <th>7</th>\n",
       "      <td>0.997778</td>\n",
       "      <td>0.632222</td>\n",
       "    </tr>\n",
       "    <tr>\n",
       "      <th>8</th>\n",
       "      <td>0.987778</td>\n",
       "      <td>0.558333</td>\n",
       "    </tr>\n",
       "    <tr>\n",
       "      <th>9</th>\n",
       "      <td>0.995000</td>\n",
       "      <td>0.622500</td>\n",
       "    </tr>\n",
       "  </tbody>\n",
       "</table>\n",
       "</div>"
      ],
      "text/plain": [
       "   Confidence  Efficiency\n",
       "0    0.993333    0.573056\n",
       "1    0.985278    0.611667\n",
       "2    0.985556    0.564167\n",
       "3    0.986667    0.616389\n",
       "4    0.983333    0.515000\n",
       "5    0.995556    0.572222\n",
       "6    0.986389    0.664167\n",
       "7    0.997778    0.632222\n",
       "8    0.987778    0.558333\n",
       "9    0.995000    0.622500"
      ]
     },
     "execution_count": 13,
     "metadata": {},
     "output_type": "execute_result"
    }
   ],
   "source": [
    "result_df_2"
   ]
  },
  {
   "cell_type": "code",
   "execution_count": 14,
   "metadata": {},
   "outputs": [
    {
     "name": "stdout",
     "output_type": "stream",
     "text": [
      "           acc epoch      loss  training_acc  training_loss      type  \\\n",
      "0     0.502075     1  0.710325           NaN            NaN  training   \n",
      "1     0.502075     2  0.693351           NaN            NaN  training   \n",
      "2     0.502075     3  0.672991           NaN            NaN  training   \n",
      "3     0.535270     4  0.628816           NaN            NaN  training   \n",
      "4     1.000000     5  0.529720           NaN            NaN  training   \n",
      "5     1.000000     6  0.415393           NaN            NaN  training   \n",
      "6     1.000000     7  0.316740           NaN            NaN  training   \n",
      "7     1.000000     8  0.246985           NaN            NaN  training   \n",
      "8     1.000000     9  0.197342           NaN            NaN  training   \n",
      "9     1.000000    10  0.157181           NaN            NaN  training   \n",
      "10    0.494949     1  0.702455           NaN            NaN       val   \n",
      "11    0.494949     2  0.685965           NaN            NaN       val   \n",
      "12    0.494949     3  0.659160           NaN            NaN       val   \n",
      "13    1.000000     4  0.589262           NaN            NaN       val   \n",
      "14    1.000000     5  0.471912           NaN            NaN       val   \n",
      "15    1.000000     6  0.366212           NaN            NaN       val   \n",
      "16    1.000000     7  0.278777           NaN            NaN       val   \n",
      "17    1.000000     8  0.221265           NaN            NaN       val   \n",
      "18    1.000000     9  0.177865           NaN            NaN       val   \n",
      "19    1.000000    10  0.141998           NaN            NaN       val   \n",
      "20    1.000000     1  0.287413           NaN            NaN  training   \n",
      "21    1.000000     2  0.036830           NaN            NaN  training   \n",
      "22    1.000000     3  0.018911           NaN            NaN  training   \n",
      "23    1.000000     4  0.011947           NaN            NaN  training   \n",
      "24    1.000000     5  0.008403           NaN            NaN  training   \n",
      "25    1.000000     6  0.006284           NaN            NaN  training   \n",
      "26    1.000000     7  0.004852           NaN            NaN  training   \n",
      "27    1.000000     8  0.003839           NaN            NaN  training   \n",
      "28    1.000000     9  0.003095           NaN            NaN  training   \n",
      "29    1.000000    10  0.002534           NaN            NaN  training   \n",
      "...        ...   ...       ...           ...            ...       ...   \n",
      "1980  0.443983     1  0.694427           NaN            NaN  training   \n",
      "1981  0.460581     2  0.694206           NaN            NaN  training   \n",
      "1982  0.448133     3  0.694070           NaN            NaN  training   \n",
      "1983  0.452282     4  0.693949           NaN            NaN  training   \n",
      "1984  0.452282     5  0.693837           NaN            NaN  training   \n",
      "1985  0.439834     6  0.693732           NaN            NaN  training   \n",
      "1986  0.460581     7  0.693633           NaN            NaN  training   \n",
      "1987  0.489627     8  0.693537           NaN            NaN  training   \n",
      "1988  0.502075     9  0.693444           NaN            NaN  training   \n",
      "1989  0.510373    10  0.693352           NaN            NaN  training   \n",
      "1990  0.484848     1  0.693528           NaN            NaN       val   \n",
      "1991  0.474747     2  0.693681           NaN            NaN       val   \n",
      "1992  0.464646     3  0.693755           NaN            NaN       val   \n",
      "1993  0.464646     4  0.693787           NaN            NaN       val   \n",
      "1994  0.464646     5  0.693798           NaN            NaN       val   \n",
      "1995  0.454545     6  0.693798           NaN            NaN       val   \n",
      "1996  0.484848     7  0.693790           NaN            NaN       val   \n",
      "1997  0.474747     8  0.693779           NaN            NaN       val   \n",
      "1998  0.484848     9  0.693766           NaN            NaN       val   \n",
      "1999  0.474747    10  0.693750           NaN            NaN       val   \n",
      "2000       NaN     1       NaN      0.694427       0.694427       NaN   \n",
      "2001       NaN     2       NaN      0.694206       0.694206       NaN   \n",
      "2002       NaN     3       NaN      0.694070       0.694070       NaN   \n",
      "2003       NaN     4       NaN      0.693949       0.693949       NaN   \n",
      "2004       NaN     5       NaN      0.693837       0.693837       NaN   \n",
      "2005       NaN     6       NaN      0.693732       0.693732       NaN   \n",
      "2006       NaN     7       NaN      0.693633       0.693633       NaN   \n",
      "2007       NaN     8       NaN      0.693537       0.693537       NaN   \n",
      "2008       NaN     9       NaN      0.693444       0.693444       NaN   \n",
      "2009       NaN    10       NaN      0.693352       0.693352       NaN   \n",
      "\n",
      "       val_acc  val_loss  \n",
      "0          NaN       NaN  \n",
      "1          NaN       NaN  \n",
      "2          NaN       NaN  \n",
      "3          NaN       NaN  \n",
      "4          NaN       NaN  \n",
      "5          NaN       NaN  \n",
      "6          NaN       NaN  \n",
      "7          NaN       NaN  \n",
      "8          NaN       NaN  \n",
      "9          NaN       NaN  \n",
      "10         NaN       NaN  \n",
      "11         NaN       NaN  \n",
      "12         NaN       NaN  \n",
      "13         NaN       NaN  \n",
      "14         NaN       NaN  \n",
      "15         NaN       NaN  \n",
      "16         NaN       NaN  \n",
      "17         NaN       NaN  \n",
      "18         NaN       NaN  \n",
      "19         NaN       NaN  \n",
      "20         NaN       NaN  \n",
      "21         NaN       NaN  \n",
      "22         NaN       NaN  \n",
      "23         NaN       NaN  \n",
      "24         NaN       NaN  \n",
      "25         NaN       NaN  \n",
      "26         NaN       NaN  \n",
      "27         NaN       NaN  \n",
      "28         NaN       NaN  \n",
      "29         NaN       NaN  \n",
      "...        ...       ...  \n",
      "1980       NaN       NaN  \n",
      "1981       NaN       NaN  \n",
      "1982       NaN       NaN  \n",
      "1983       NaN       NaN  \n",
      "1984       NaN       NaN  \n",
      "1985       NaN       NaN  \n",
      "1986       NaN       NaN  \n",
      "1987       NaN       NaN  \n",
      "1988       NaN       NaN  \n",
      "1989       NaN       NaN  \n",
      "1990       NaN       NaN  \n",
      "1991       NaN       NaN  \n",
      "1992       NaN       NaN  \n",
      "1993       NaN       NaN  \n",
      "1994       NaN       NaN  \n",
      "1995       NaN       NaN  \n",
      "1996       NaN       NaN  \n",
      "1997       NaN       NaN  \n",
      "1998       NaN       NaN  \n",
      "1999       NaN       NaN  \n",
      "2000  0.694427  0.694427  \n",
      "2001  0.694206  0.694206  \n",
      "2002  0.694070  0.694070  \n",
      "2003  0.693949  0.693949  \n",
      "2004  0.693837  0.693837  \n",
      "2005  0.693732  0.693732  \n",
      "2006  0.693633  0.693633  \n",
      "2007  0.693537  0.693537  \n",
      "2008  0.693444  0.693444  \n",
      "2009  0.693352  0.693352  \n",
      "\n",
      "[2010 rows x 8 columns]\n"
     ]
    }
   ],
   "source": [
    "epochs = len(radioc2.history[i].history['loss'])\n",
    "x1 = radioc2.history[i].history['loss']\n",
    "x2 = radioc2.history[i].history['loss']\n",
    "x3 = radioc2.history[i].history['loss']\n",
    "x4 = radioc2.history[i].history['loss']\n",
    "eps = [x for x in range(1,epochs+1)]\n",
    "result_df= result_df.append(pd.DataFrame({'training_loss':x1,'training_acc':x2, 'val_loss':x3,'val_acc':x4,'epoch':eps}), ignore_index=True)\n",
    "print(result_df)"
   ]
  },
  {
   "cell_type": "code",
   "execution_count": 15,
   "metadata": {},
   "outputs": [
    {
     "data": {
      "image/png": "[encoded data removed]",
      "text/plain": [
       "<matplotlib.figure.Figure at 0x28f26dd5160>"
      ]
     },
     "metadata": {},
     "output_type": "display_data"
    }
   ],
   "source": [
    "ax = sns.pointplot(x=\"epoch\", y=\"training_acc\", data=result_df)"
   ]
  },
  {
   "cell_type": "markdown",
   "metadata": {
    "collapsed": true
   },
   "source": [
    "## LSTM Design"
   ]
  },
  {
   "cell_type": "code",
   "execution_count": 6,
   "metadata": {
    "scrolled": false
   },
   "outputs": [
    {
     "ename": "NameError",
     "evalue": "name 'Sequential' is not defined",
     "output_type": "error",
     "traceback": [
      "\u001b[1;31m---------------------------------------------------------------------------\u001b[0m",
      "\u001b[1;31mNameError\u001b[0m                                 Traceback (most recent call last)",
      "\u001b[1;32m<ipython-input-6-98369f4faaad>\u001b[0m in \u001b[0;36m<module>\u001b[1;34m()\u001b[0m\n\u001b[0;32m     33\u001b[0m \u001b[0mc2\u001b[0m \u001b[1;33m=\u001b[0m \u001b[0mCognitiveRadio_v2\u001b[0m\u001b[1;33m(\u001b[0m\u001b[0mtest\u001b[0m\u001b[1;33m.\u001b[0m\u001b[0msfdf\u001b[0m\u001b[1;33m,\u001b[0m \u001b[0mlookback\u001b[0m\u001b[1;33m=\u001b[0m\u001b[1;36m10\u001b[0m\u001b[1;33m)\u001b[0m\u001b[1;33m\u001b[0m\u001b[0m\n\u001b[0;32m     34\u001b[0m \u001b[1;31m#test.addCognitiveRadio(radioc)\u001b[0m\u001b[1;33m\u001b[0m\u001b[1;33m\u001b[0m\u001b[0m\n\u001b[1;32m---> 35\u001b[1;33m \u001b[0mtest\u001b[0m\u001b[1;33m.\u001b[0m\u001b[0maddCognitiveRadio\u001b[0m\u001b[1;33m(\u001b[0m\u001b[0mc2\u001b[0m\u001b[1;33m)\u001b[0m\u001b[1;33m\u001b[0m\u001b[0m\n\u001b[0m\u001b[0;32m     36\u001b[0m \u001b[1;33m\u001b[0m\u001b[0m\n\u001b[0;32m     37\u001b[0m \u001b[0mtest\u001b[0m\u001b[1;33m.\u001b[0m\u001b[0mrun\u001b[0m\u001b[1;33m(\u001b[0m\u001b[1;33m)\u001b[0m\u001b[1;33m\u001b[0m\u001b[0m\n",
      "\u001b[1;32m<ipython-input-1-cf2413f85ab6>\u001b[0m in \u001b[0;36maddCognitiveRadio\u001b[1;34m(self, radio)\u001b[0m\n\u001b[0;32m     17\u001b[0m     \u001b[1;32mdef\u001b[0m \u001b[0maddCognitiveRadio\u001b[0m\u001b[1;33m(\u001b[0m\u001b[0mself\u001b[0m\u001b[1;33m,\u001b[0m\u001b[0mradio\u001b[0m\u001b[1;33m)\u001b[0m\u001b[1;33m:\u001b[0m\u001b[1;33m\u001b[0m\u001b[0m\n\u001b[0;32m     18\u001b[0m         \u001b[0mself\u001b[0m\u001b[1;33m.\u001b[0m\u001b[0mradios\u001b[0m\u001b[1;33m.\u001b[0m\u001b[0mappend\u001b[0m\u001b[1;33m(\u001b[0m\u001b[0mradio\u001b[0m\u001b[1;33m)\u001b[0m\u001b[1;33m\u001b[0m\u001b[0m\n\u001b[1;32m---> 19\u001b[1;33m         \u001b[0mself\u001b[0m\u001b[1;33m.\u001b[0m\u001b[0msfdf\u001b[0m \u001b[1;33m=\u001b[0m \u001b[0mradio\u001b[0m\u001b[1;33m.\u001b[0m\u001b[0mgenerate\u001b[0m\u001b[1;33m(\u001b[0m\u001b[1;33m)\u001b[0m\u001b[1;33m\u001b[0m\u001b[0m\n\u001b[0m\u001b[0;32m     20\u001b[0m \u001b[1;33m\u001b[0m\u001b[0m\n\u001b[0;32m     21\u001b[0m     \u001b[1;32mdef\u001b[0m \u001b[0mrun\u001b[0m\u001b[1;33m(\u001b[0m\u001b[0mself\u001b[0m\u001b[1;33m)\u001b[0m\u001b[1;33m:\u001b[0m\u001b[1;33m\u001b[0m\u001b[0m\n",
      "\u001b[1;32m<ipython-input-5-9990af2fb3fb>\u001b[0m in \u001b[0;36mgenerate\u001b[1;34m(self)\u001b[0m\n\u001b[0;32m    112\u001b[0m             \u001b[1;31m# Create and train model\u001b[0m\u001b[1;33m\u001b[0m\u001b[1;33m\u001b[0m\u001b[0m\n\u001b[0;32m    113\u001b[0m \u001b[1;33m\u001b[0m\u001b[0m\n\u001b[1;32m--> 114\u001b[1;33m             \u001b[0mself\u001b[0m\u001b[1;33m.\u001b[0m\u001b[0mmodels\u001b[0m\u001b[1;33m.\u001b[0m\u001b[0mappend\u001b[0m\u001b[1;33m(\u001b[0m\u001b[0mself\u001b[0m\u001b[1;33m.\u001b[0m\u001b[0mcreate_model\u001b[0m\u001b[1;33m(\u001b[0m\u001b[1;33m)\u001b[0m\u001b[1;33m)\u001b[0m\u001b[1;33m\u001b[0m\u001b[0m\n\u001b[0m\u001b[0;32m    115\u001b[0m             \u001b[0mself\u001b[0m\u001b[1;33m.\u001b[0m\u001b[0mhistory\u001b[0m\u001b[1;33m.\u001b[0m\u001b[0mappend\u001b[0m\u001b[1;33m(\u001b[0m\u001b[0mself\u001b[0m\u001b[1;33m.\u001b[0m\u001b[0mtrain_model\u001b[0m\u001b[1;33m(\u001b[0m\u001b[0mself\u001b[0m\u001b[1;33m.\u001b[0m\u001b[0mmodels\u001b[0m\u001b[1;33m[\u001b[0m\u001b[0mchannel\u001b[0m\u001b[1;33m]\u001b[0m\u001b[1;33m)\u001b[0m\u001b[1;33m)\u001b[0m\u001b[1;33m\u001b[0m\u001b[0m\n\u001b[0;32m    116\u001b[0m \u001b[1;33m\u001b[0m\u001b[0m\n",
      "\u001b[1;32m<ipython-input-5-9990af2fb3fb>\u001b[0m in \u001b[0;36mcreate_model\u001b[1;34m(self)\u001b[0m\n\u001b[0;32m     50\u001b[0m     \u001b[1;32mdef\u001b[0m \u001b[0mcreate_model\u001b[0m\u001b[1;33m(\u001b[0m\u001b[0mself\u001b[0m\u001b[1;33m)\u001b[0m\u001b[1;33m:\u001b[0m\u001b[1;33m\u001b[0m\u001b[0m\n\u001b[0;32m     51\u001b[0m \u001b[1;33m\u001b[0m\u001b[0m\n\u001b[1;32m---> 52\u001b[1;33m         \u001b[0mmodel\u001b[0m \u001b[1;33m=\u001b[0m \u001b[0mSequential\u001b[0m\u001b[1;33m(\u001b[0m\u001b[1;33m)\u001b[0m\u001b[1;33m\u001b[0m\u001b[0m\n\u001b[0m\u001b[0;32m     53\u001b[0m         \u001b[0mmodel\u001b[0m\u001b[1;33m.\u001b[0m\u001b[0madd\u001b[0m\u001b[1;33m(\u001b[0m\u001b[0mLSTM\u001b[0m\u001b[1;33m(\u001b[0m\u001b[1;36m5\u001b[0m\u001b[1;33m,\u001b[0m \u001b[0minput_shape\u001b[0m\u001b[1;33m=\u001b[0m\u001b[1;33m(\u001b[0m\u001b[0mself\u001b[0m\u001b[1;33m.\u001b[0m\u001b[0mlookback\u001b[0m\u001b[1;33m,\u001b[0m \u001b[1;36m1\u001b[0m\u001b[1;33m)\u001b[0m\u001b[1;33m)\u001b[0m\u001b[1;33m)\u001b[0m\u001b[1;33m\u001b[0m\u001b[0m\n\u001b[0;32m     54\u001b[0m         \u001b[1;31m#self.model.add(GRU(10, input_shape=(self.lookback, 1)))\u001b[0m\u001b[1;33m\u001b[0m\u001b[1;33m\u001b[0m\u001b[0m\n",
      "\u001b[1;31mNameError\u001b[0m: name 'Sequential' is not defined"
     ]
    }
   ],
   "source": [
    "import numpy as np\n",
    "import pandas as pd  \n",
    "import seaborn as sns\n",
    "import math \n",
    "%matplotlib inline\n",
    "\n",
    "days = 15\n",
    "total_cycles = days*24\n",
    "\n",
    "\n",
    "test = Simulation(cycles=total_cycles)\n",
    "radio1= ConventionalRadio(1,total_cycles,1)\n",
    "test.addRadio(radio1,1)\n",
    "radio2= ConventionalRadio(-1,total_cycles,2)\n",
    "test.addRadio(radio2,2)\n",
    "radio3= ConventionalRadio(4,total_cycles,3)\n",
    "test.addRadio(radio3,3)\n",
    "radio4= ConventionalRadio(2,total_cycles,4)\n",
    "test.addRadio(radio4,4)\n",
    "radio5= ConventionalRadio(6,total_cycles,5)\n",
    "test.addRadio(radio5,5)\n",
    "radio6= ConventionalRadio(12,total_cycles,6)\n",
    "test.addRadio(radio6,6)\n",
    "radio7= ConventionalRadio(1,total_cycles,7)\n",
    "test.addRadio(radio7,7)\n",
    "radio8= ConventionalRadio(4,total_cycles,8)\n",
    "test.addRadio(radio8,8)\n",
    "radio9= ConventionalRadio(-1,total_cycles,9)\n",
    "test.addRadio(radio9,9)\n",
    "radio0= ConventionalRadio(4,total_cycles,0)\n",
    "test.addRadio(radio0,0)\n",
    "radioc = CognitiveRadio_v1(test.sfdf)\n",
    "c2 = CognitiveRadio_v2(test.sfdf, lookback=10)\n",
    "#test.addCognitiveRadio(radioc)\n",
    "test.addCognitiveRadio(c2)\n",
    "\n",
    "test.run()"
   ]
  },
  {
   "cell_type": "code",
   "execution_count": 17,
   "metadata": {
    "collapsed": true,
    "scrolled": true
   },
   "outputs": [],
   "source": [
    "%matplotlib inline\n",
    "import numpy as np\n",
    "import pandas as pd\n",
    "from matplotlib import pyplot as plt\n",
    "\n",
    "from tensorflow.contrib import learn\n",
    "from sklearn.metrics import mean_squared_error, mean_absolute_error\n",
    "from keras.models import Sequential\n",
    "from keras.layers import Dense\n",
    "from keras.layers import LSTM, Activation, GRU\n",
    "from keras.callbacks import EarlyStopping, ModelCheckpoint\n"
   ]
  },
  {
   "cell_type": "code",
   "execution_count": 18,
   "metadata": {},
   "outputs": [
    {
     "name": "stdout",
     "output_type": "stream",
     "text": [
      "<class 'pandas.core.series.Series'>\n"
     ]
    }
   ],
   "source": [
    "df = test.sfdf\n",
    "for colum in df.columns:\n",
    "    print(type(df[colum]))\n",
    "    break"
   ]
  },
  {
   "cell_type": "code",
   "execution_count": 19,
   "metadata": {
    "scrolled": false
   },
   "outputs": [
    {
     "data": {
      "text/plain": [
       "{'acc': [1.0, 1.0, 1.0, 1.0, 1.0, 1.0, 1.0, 1.0, 1.0, 1.0],\n",
       " 'loss': [0.23262150495997108,\n",
       "  0.04320269981515111,\n",
       "  0.015013297161868005,\n",
       "  0.0076922169187071416,\n",
       "  0.0054789556719795551,\n",
       "  0.0042398904761322678,\n",
       "  0.0033592206988236344,\n",
       "  0.002711375575334885,\n",
       "  0.0022213369505518577,\n",
       "  0.0018420886432875675],\n",
       " 'val_acc': [1.0, 1.0, 1.0, 1.0, 1.0, 1.0, 1.0, 1.0, 1.0, 1.0],\n",
       " 'val_loss': [0.07636570930480957,\n",
       "  0.023431530222296715,\n",
       "  0.010043824091553688,\n",
       "  0.0062624397687613964,\n",
       "  0.0047830110415816307,\n",
       "  0.0037506737280637026,\n",
       "  0.0030026771128177643,\n",
       "  0.0024436740204691887,\n",
       "  0.0020154749508947134,\n",
       "  0.0016805336344987154]}"
      ]
     },
     "execution_count": 19,
     "metadata": {},
     "output_type": "execute_result"
    }
   ],
   "source": [
    "radioc2.history[0].history"
   ]
  },
  {
   "cell_type": "code",
   "execution_count": 20,
   "metadata": {},
   "outputs": [
    {
     "data": {
      "text/html": [
       "<div>\n",
       "<style>\n",
       "    .dataframe thead tr:only-child th {\n",
       "        text-align: right;\n",
       "    }\n",
       "\n",
       "    .dataframe thead th {\n",
       "        text-align: left;\n",
       "    }\n",
       "\n",
       "    .dataframe tbody tr th {\n",
       "        vertical-align: top;\n",
       "    }\n",
       "</style>\n",
       "<table border=\"1\" class=\"dataframe\">\n",
       "  <thead>\n",
       "    <tr style=\"text-align: right;\">\n",
       "      <th></th>\n",
       "      <th>0</th>\n",
       "      <th>1</th>\n",
       "      <th>2</th>\n",
       "      <th>3</th>\n",
       "      <th>4</th>\n",
       "      <th>5</th>\n",
       "      <th>6</th>\n",
       "      <th>7</th>\n",
       "      <th>8</th>\n",
       "      <th>9</th>\n",
       "    </tr>\n",
       "  </thead>\n",
       "  <tbody>\n",
       "    <tr>\n",
       "      <th>355</th>\n",
       "      <td>1.0</td>\n",
       "      <td>0.0</td>\n",
       "      <td>1.0</td>\n",
       "      <td>1.0</td>\n",
       "      <td>1.0</td>\n",
       "      <td>0.0</td>\n",
       "      <td>1.0</td>\n",
       "      <td>0.0</td>\n",
       "      <td>1.0</td>\n",
       "      <td>1.0</td>\n",
       "    </tr>\n",
       "    <tr>\n",
       "      <th>356</th>\n",
       "      <td>0.0</td>\n",
       "      <td>1.0</td>\n",
       "      <td>1.0</td>\n",
       "      <td>0.0</td>\n",
       "      <td>1.0</td>\n",
       "      <td>1.0</td>\n",
       "      <td>1.0</td>\n",
       "      <td>1.0</td>\n",
       "      <td>0.0</td>\n",
       "      <td>1.0</td>\n",
       "    </tr>\n",
       "    <tr>\n",
       "      <th>357</th>\n",
       "      <td>0.0</td>\n",
       "      <td>0.0</td>\n",
       "      <td>1.0</td>\n",
       "      <td>0.0</td>\n",
       "      <td>1.0</td>\n",
       "      <td>1.0</td>\n",
       "      <td>1.0</td>\n",
       "      <td>0.0</td>\n",
       "      <td>0.0</td>\n",
       "      <td>1.0</td>\n",
       "    </tr>\n",
       "    <tr>\n",
       "      <th>358</th>\n",
       "      <td>0.0</td>\n",
       "      <td>1.0</td>\n",
       "      <td>1.0</td>\n",
       "      <td>0.0</td>\n",
       "      <td>0.0</td>\n",
       "      <td>1.0</td>\n",
       "      <td>1.0</td>\n",
       "      <td>1.0</td>\n",
       "      <td>0.0</td>\n",
       "      <td>1.0</td>\n",
       "    </tr>\n",
       "    <tr>\n",
       "      <th>359</th>\n",
       "      <td>0.0</td>\n",
       "      <td>0.0</td>\n",
       "      <td>1.0</td>\n",
       "      <td>0.0</td>\n",
       "      <td>0.0</td>\n",
       "      <td>0.0</td>\n",
       "      <td>1.0</td>\n",
       "      <td>1.0</td>\n",
       "      <td>0.0</td>\n",
       "      <td>1.0</td>\n",
       "    </tr>\n",
       "  </tbody>\n",
       "</table>\n",
       "</div>"
      ],
      "text/plain": [
       "       0    1    2    3    4    5    6    7    8    9\n",
       "355  1.0  0.0  1.0  1.0  1.0  0.0  1.0  0.0  1.0  1.0\n",
       "356  0.0  1.0  1.0  0.0  1.0  1.0  1.0  1.0  0.0  1.0\n",
       "357  0.0  0.0  1.0  0.0  1.0  1.0  1.0  0.0  0.0  1.0\n",
       "358  0.0  1.0  1.0  0.0  0.0  1.0  1.0  1.0  0.0  1.0\n",
       "359  0.0  0.0  1.0  0.0  0.0  0.0  1.0  1.0  0.0  1.0"
      ]
     },
     "execution_count": 20,
     "metadata": {},
     "output_type": "execute_result"
    }
   ],
   "source": [
    "c2.df.tail()"
   ]
  },
  {
   "cell_type": "code",
   "execution_count": 21,
   "metadata": {
    "scrolled": true
   },
   "outputs": [
    {
     "data": {
      "text/html": [
       "<div>\n",
       "<style>\n",
       "    .dataframe thead tr:only-child th {\n",
       "        text-align: right;\n",
       "    }\n",
       "\n",
       "    .dataframe thead th {\n",
       "        text-align: left;\n",
       "    }\n",
       "\n",
       "    .dataframe tbody tr th {\n",
       "        vertical-align: top;\n",
       "    }\n",
       "</style>\n",
       "<table border=\"1\" class=\"dataframe\">\n",
       "  <thead>\n",
       "    <tr style=\"text-align: right;\">\n",
       "      <th></th>\n",
       "      <th>0</th>\n",
       "      <th>1</th>\n",
       "      <th>2</th>\n",
       "      <th>3</th>\n",
       "      <th>4</th>\n",
       "      <th>5</th>\n",
       "      <th>6</th>\n",
       "      <th>7</th>\n",
       "      <th>8</th>\n",
       "      <th>9</th>\n",
       "    </tr>\n",
       "  </thead>\n",
       "  <tbody>\n",
       "    <tr>\n",
       "      <th>355</th>\n",
       "      <td>1.0</td>\n",
       "      <td>0.0</td>\n",
       "      <td>1.0</td>\n",
       "      <td>1.0</td>\n",
       "      <td>1.0</td>\n",
       "      <td>0.0</td>\n",
       "      <td>1.0</td>\n",
       "      <td>0.0</td>\n",
       "      <td>1.0</td>\n",
       "      <td>1.0</td>\n",
       "    </tr>\n",
       "    <tr>\n",
       "      <th>356</th>\n",
       "      <td>0.0</td>\n",
       "      <td>1.0</td>\n",
       "      <td>1.0</td>\n",
       "      <td>0.0</td>\n",
       "      <td>1.0</td>\n",
       "      <td>1.0</td>\n",
       "      <td>1.0</td>\n",
       "      <td>1.0</td>\n",
       "      <td>0.0</td>\n",
       "      <td>1.0</td>\n",
       "    </tr>\n",
       "    <tr>\n",
       "      <th>357</th>\n",
       "      <td>0.0</td>\n",
       "      <td>0.0</td>\n",
       "      <td>1.0</td>\n",
       "      <td>0.0</td>\n",
       "      <td>1.0</td>\n",
       "      <td>1.0</td>\n",
       "      <td>1.0</td>\n",
       "      <td>0.0</td>\n",
       "      <td>0.0</td>\n",
       "      <td>1.0</td>\n",
       "    </tr>\n",
       "    <tr>\n",
       "      <th>358</th>\n",
       "      <td>0.0</td>\n",
       "      <td>1.0</td>\n",
       "      <td>1.0</td>\n",
       "      <td>0.0</td>\n",
       "      <td>0.0</td>\n",
       "      <td>1.0</td>\n",
       "      <td>1.0</td>\n",
       "      <td>1.0</td>\n",
       "      <td>0.0</td>\n",
       "      <td>1.0</td>\n",
       "    </tr>\n",
       "    <tr>\n",
       "      <th>359</th>\n",
       "      <td>0.0</td>\n",
       "      <td>0.0</td>\n",
       "      <td>1.0</td>\n",
       "      <td>0.0</td>\n",
       "      <td>0.0</td>\n",
       "      <td>0.0</td>\n",
       "      <td>1.0</td>\n",
       "      <td>1.0</td>\n",
       "      <td>0.0</td>\n",
       "      <td>1.0</td>\n",
       "    </tr>\n",
       "  </tbody>\n",
       "</table>\n",
       "</div>"
      ],
      "text/plain": [
       "       0    1    2    3    4    5    6    7    8    9\n",
       "355  1.0  0.0  1.0  1.0  1.0  0.0  1.0  0.0  1.0  1.0\n",
       "356  0.0  1.0  1.0  0.0  1.0  1.0  1.0  1.0  0.0  1.0\n",
       "357  0.0  0.0  1.0  0.0  1.0  1.0  1.0  0.0  0.0  1.0\n",
       "358  0.0  1.0  1.0  0.0  0.0  1.0  1.0  1.0  0.0  1.0\n",
       "359  0.0  0.0  1.0  0.0  0.0  0.0  1.0  1.0  0.0  1.0"
      ]
     },
     "execution_count": 21,
     "metadata": {},
     "output_type": "execute_result"
    }
   ],
   "source": [
    "test.sfdf.tail()"
   ]
  },
  {
   "cell_type": "code",
   "execution_count": 22,
   "metadata": {},
   "outputs": [
    {
     "name": "stdout",
     "output_type": "stream",
     "text": [
      "\r",
      "32/99 [========>.....................] - ETA: 0s"
     ]
    }
   ],
   "source": [
    "tt= c2.models[0].predict_classes(c2.valid_x).ravel().tolist()\n",
    "tt1 = c2.valid_x\n",
    "tt2 = c2.valid_y\n",
    "tt3 = c2.df[0][-99:]"
   ]
  },
  {
   "cell_type": "code",
   "execution_count": 23,
   "metadata": {},
   "outputs": [
    {
     "data": {
      "text/plain": [
       "[1, 1, 1, 1, 1]"
      ]
     },
     "execution_count": 23,
     "metadata": {},
     "output_type": "execute_result"
    }
   ],
   "source": [
    "tt[-5:]"
   ]
  },
  {
   "cell_type": "code",
   "execution_count": null,
   "metadata": {
    "collapsed": true
   },
   "outputs": [],
   "source": []
  },
  {
   "cell_type": "code",
   "execution_count": 24,
   "metadata": {},
   "outputs": [
    {
     "data": {
      "text/plain": [
       "261    1.0\n",
       "262    1.0\n",
       "263    1.0\n",
       "264    2.0\n",
       "265    1.0\n",
       "Name: 0, dtype: float64"
      ]
     },
     "execution_count": 24,
     "metadata": {},
     "output_type": "execute_result"
    }
   ],
   "source": [
    "tt3.head()"
   ]
  },
  {
   "cell_type": "code",
   "execution_count": null,
   "metadata": {
    "collapsed": true
   },
   "outputs": [],
   "source": []
  },
  {
   "cell_type": "code",
   "execution_count": 25,
   "metadata": {},
   "outputs": [
    {
     "name": "stdout",
     "output_type": "stream",
     "text": [
      "\r",
      "32/99 [========>.....................] - ETA: 0s"
     ]
    },
    {
     "data": {
      "text/plain": [
       "RangeIndex(start=0, stop=98, step=1)"
      ]
     },
     "execution_count": 25,
     "metadata": {},
     "output_type": "execute_result"
    }
   ],
   "source": [
    "tt = pd.Series(c2.models[0].predict_classes(c2.valid_x).ravel().tolist()[::-1])[:-1]        \n",
    "tt.index"
   ]
  },
  {
   "cell_type": "code",
   "execution_count": 26,
   "metadata": {
    "collapsed": true
   },
   "outputs": [],
   "source": [
    "def generate_activity(pred_df):\n",
    "        current= 0\n",
    "        for index, row in pred_df.iterrows():                         \n",
    "            free_channels = row[row==0].index.values\n",
    "            busy_channels = row[row>0 ].index.values     \n",
    "            print(index)\n",
    "\n",
    "            if current in busy_channels:\n",
    "                # Change Channel \n",
    "                left = free_channels[free_channels > current]\n",
    "                right = free_channels[free_channels < current]\n",
    "\n",
    "                if len(left)>0:\n",
    "                    current = left.min()\n",
    "                elif len(right)> 0:\n",
    "                    current = right.min()\n",
    "                else:\n",
    "                    current = current   \n",
    "                \n",
    "            "
   ]
  },
  {
   "cell_type": "code",
   "execution_count": 27,
   "metadata": {},
   "outputs": [
    {
     "name": "stdout",
     "output_type": "stream",
     "text": [
      "Begin Simulation\n",
      "Network :\n",
      "Conventional Radio with Period 1 located in channel 1\n",
      "Conventional Radio with Period -1 located in channel 2\n",
      "Conventional Radio with Period 4 located in channel 3\n",
      "Conventional Radio with Period 2 located in channel 4\n",
      "Conventional Radio with Period 6 located in channel 5\n",
      "Conventional Radio with Period 12 located in channel 6\n",
      "Conventional Radio with Period 1 located in channel 7\n",
      "Conventional Radio with Period 4 located in channel 8\n",
      "Conventional Radio with Period -1 located in channel 9\n",
      "Conventional Radio with Period 4 located in channel 0\n",
      "Cognitive Radio v1 located in the network \n",
      "Cognitive Radio v2 located in the network \n",
      "Network Confidence : 99.5555555556%\n",
      "Spectrum Eficieny : 69.8055555556%\n",
      "Method to plot and present results\n"
     ]
    },
    {
     "data": {
      "image/png": "[encoded data removed]",
      "text/plain": [
       "<matplotlib.figure.Figure at 0x28f411b7ac8>"
      ]
     },
     "metadata": {},
     "output_type": "display_data"
    }
   ],
   "source": [
    "test.run()"
   ]
  },
  {
   "cell_type": "code",
   "execution_count": null,
   "metadata": {
    "collapsed": true
   },
   "outputs": [],
   "source": []
  },
  {
   "cell_type": "code",
   "execution_count": null,
   "metadata": {
    "collapsed": true
   },
   "outputs": [],
   "source": []
  },
  {
   "cell_type": "code",
   "execution_count": null,
   "metadata": {
    "collapsed": true
   },
   "outputs": [],
   "source": []
  }
 ],
 "metadata": {
  "kernelspec": {
   "display_name": "Python (3.6)",
   "language": "python",
   "name": "py36"
  },
  "language_info": {
   "codemirror_mode": {
    "name": "ipython",
    "version": 3
   },
   "file_extension": ".py",
   "mimetype": "text/x-python",
   "name": "python",
   "nbconvert_exporter": "python",
   "pygments_lexer": "ipython3",
   "version": "3.6.2"
  }
 },
 "nbformat": 4,
 "nbformat_minor": 2
}
